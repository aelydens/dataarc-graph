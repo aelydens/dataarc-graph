{
 "cells": [
  {
   "cell_type": "markdown",
   "metadata": {},
   "source": [
    "# **Final Project**\n",
    "\n",
    "## Annie Lydens\n",
    "#### *CSPB 3287*\n",
    "\n",
    "----\n",
    "\n",
    "#### **Project Overview and Motivation** \n",
    "For my semester project, I combined several different scientific datasets from the DataArc project, which spans the fields of paleoecology, archeology, and climatology to build my own connected “concept map”.\n",
    "\n",
    "The DataArc project is an open-source effort to create conceptual mappings between datasets from different scientific disciplines, so scientists can easily share data and work together to identify emerging patterns due to climate change.\n",
    "\n",
    "The problem that the DataArc project is trying to solve is that while many researchers are using datasets with the same or similar entities and ideas, these datasets are not connected to each other, so researchers cannot easily draw conclusions or gather information across the datasets. Scientists are essentially working within data silos.\n",
    "\n",
    "A primary goal of the DataArc project is to link different datasets by mapping the concepts within them to shared topics and concepts, so researchers can easily discover new connections within a shared “concept map”. Once the main concept map is established, the hope is that scientists from different disciplines can continue to expand the concept map to empower interdisciplinary studies.\n",
    "\n",
    "The DataArc project aims to make connections on a large scale across many different datasets and disciplines. For my project, I chose to tackle a subset of the concept map by connecting items from four different datasets in a graph database using Neo4j. The nodes in the completed graph represented different concepts like a “combinator” (an item from a dataset, like a discovery of bone fragments), a “topic”, or a “user” (researcher), and were connected with edges if, for example, an item was tagged with a topic or had been contributed by a user.\n",
    "\n",
    "I was in contact with Dr. Rachel Opitz, one of the main researchers on the DataArc project, to gather initial information to work on this semester project. I will continue working with her and others on the project to assist with building out the concept map this summer.\n",
    "\n",
    "I am presenting my results in a Jupyter notebook to show examples of how a researcher could perform dynamic queries about a conceptual entity (like a specific topic or name) and get a result that combines multiple data sources and shows the conceptual links between those sources.\n",
    "\n",
    "I chose a Jupyter notebook as the user interface for my project because the end users of my project are familiar with Jupyter notebooks and use them often in their work. Additionally, a Jupyter notebook allows me to provide in-line documentation and comments, which is an important aspect of this project for the DataArc researchers.\n"
   ]
  },
  {
   "cell_type": "code",
   "execution_count": null,
   "metadata": {},
   "outputs": [],
   "source": [
    "import sys, time\n",
    "from neo4j import GraphDatabase"
   ]
  },
  {
   "cell_type": "markdown",
   "metadata": {},
   "source": [
    "#### Connecting to the database"
   ]
  },
  {
   "cell_type": "code",
   "execution_count": null,
   "metadata": {},
   "outputs": [],
   "source": [
    "url = \"bolt://hobby-ndpkpgedihfpgbkeffpfgnel.dbs.graphenedb.com:24787\"\n",
    "driver = GraphDatabase.driver(url, auth=(ENV['NEO4J_USERNAME'], ENV['NEO4J_PASSWORD']))"
   ]
  },
  {
   "cell_type": "markdown",
   "metadata": {},
   "source": [
    "#### Issuing a query"
   ]
  },
  {
   "cell_type": "code",
   "execution_count": null,
   "metadata": {},
   "outputs": [],
   "source": [
    "# class BookmarksExample:\n",
    "#     def __init__(self, uri, auth):\n",
    "#         self.driver = GraphDatabase.driver(uri, auth=auth)\n",
    "\n",
    "#     def close(self):\n",
    "#         self.driver.close()\n",
    "\n",
    "#     # Create a person node.\n",
    "#     @classmethod\n",
    "#     def create_person(cls, tx, name):\n",
    "#         tx.run(\"CREATE (:Person {name: $name})\", name=name)\n",
    "\n",
    "#     # Create an employment relationship to a pre-existing company node.\n",
    "#     # This relies on the person first having been created.\n",
    "#     @classmethod\n",
    "#     def employ(cls, tx, person_name, company_name):\n",
    "#         tx.run(\"MATCH (person:Person {name: $person_name}) \"\n",
    "#                \"MATCH (company:Company {name: $company_name}) \"\n",
    "#                \"CREATE (person)-[:WORKS_FOR]->(company)\",\n",
    "#                person_name=person_name, company_name=company_name)\n",
    "\n",
    "#     # Create a friendship between two people.\n",
    "#     @classmethod\n",
    "#     def create_friendship(cls, tx, name_a, name_b):\n",
    "#         tx.run(\"MATCH (a:Person {name: $name_a}) \"\n",
    "#                \"MATCH (b:Person {name: $name_b}) \"\n",
    "#                \"MERGE (a)-[:KNOWS]->(b)\",\n",
    "#                name_a=name_a, name_b=name_b)\n",
    "\n",
    "#     # Match and display all friendships.\n",
    "#     @classmethod\n",
    "#     def print_friendships(cls, tx):\n",
    "#         result = tx.run(\"MATCH (a)-[:KNOWS]->(b) RETURN a.name, b.name\")\n",
    "#         for record in result:\n",
    "#             print(\"{} knows {}\".format(record[\"a.name\"], record[\"b.name\"]))\n",
    "\n",
    "#     def main(self):\n",
    "#         saved_bookmarks = []  # To collect the session bookmarks\n",
    "\n",
    "#         # Create the first person and employment relationship.\n",
    "#         with self.driver.session() as session_a:\n",
    "#             session_a.write_transaction(self.create_person, \"Alice\")\n",
    "#             session_a.write_transaction(self.employ, \"Alice\", \"Wayne Enterprises\")\n",
    "#             saved_bookmarks.append(session_a.last_bookmark())\n",
    "\n",
    "#         # Create the second person and employment relationship.\n",
    "#         with self.driver.session() as session_b:\n",
    "#             session_b.write_transaction(self.create_person, \"Bob\")\n",
    "#             session_b.write_transaction(self.employ, \"Bob\", \"LexCorp\")\n",
    "#             saved_bookmarks.append(session_b.last_bookmark())\n",
    "\n",
    "#         # Create a friendship between the two people created above.\n",
    "#         with self.driver.session(bookmarks=saved_bookmarks) as session_c:\n",
    "#             session_c.write_transaction(self.create_friendship, \"Alice\", \"Bob\")\n",
    "#             session_c.read_transaction(self.print_friendships)\n",
    "# ######   \n",
    "            \n",
    "# def create_person_node(tx, name):\n",
    "#     tx.run(\"CREATE (a:Person {name: $name})\", name=name)\n",
    "\n",
    "# def match_person_node(tx, name):\n",
    "#     result = tx.run(\"MATCH (a:Person {name: $name}) RETURN count(a)\", name=name)\n",
    "#     return result.single()[0]\n",
    "\n",
    "# def add_person(name):\n",
    "#     with driver.session() as session:\n",
    "#         session.write_transaction(create_person_node, name)\n",
    "#         persons = session.read_transaction(match_person_node, name)\n",
    "#         return persons"
   ]
  },
  {
   "cell_type": "code",
   "execution_count": 16,
   "metadata": {},
   "outputs": [
    {
     "name": "stdout",
     "output_type": "stream",
     "text": [
      "<Record t=<Node id=51 labels={'Topic'} properties={'name': 'humans', 'subjectIdentifier': ['http://wandora.org/si/temp/1484334746766-6'], 'topicId': 'L1513996235_topic68_1587130146743'}>>\n"
     ]
    }
   ],
   "source": [
    "def match_topic(tx, name):\n",
    "    result = tx.run(\"MATCH (t:Topic {name: $name}) RETURN t\", name=name)\n",
    "    return result.single()\n",
    "        \n",
    "def query_topic(name):\n",
    "    with driver.session() as session:\n",
    "        topics = session.read_transaction(match_topic, name)\n",
    "        return topics\n",
    "\n",
    "print(query_topic(\"humans\"))"
   ]
  },
  {
   "cell_type": "code",
   "execution_count": null,
   "metadata": {},
   "outputs": [],
   "source": [
    "from py2neo import Graph,Node,Relationship"
   ]
  },
  {
   "cell_type": "code",
   "execution_count": null,
   "metadata": {},
   "outputs": [],
   "source": [
    "graph = Graph(\"bolt://hobby-ndpkpgedihfpgbkeffpfgnel.dbs.graphenedb.com:24787\", auth=(\"production\", \"b.iop9NMRZFS7h.bOxA9WZ5ToUv05Xy\"))"
   ]
  },
  {
   "cell_type": "code",
   "execution_count": null,
   "metadata": {},
   "outputs": [],
   "source": [
    "#Cypher Query\n",
    "number_of_person_nodes=”MATCH(p:Person) RETURN Count(p)”\n",
    "number_of_movie_nodes=”MATCH(m:Movie) RETURN Count(m)”\n",
    "#Evaluate the Cypher query\n",
    "result_persons=graph.evaluate(number_of_person_nodes)\n",
    "result_movies=graph.evaluate(number_of_movie_nodes)\n",
    "#Print the result\n",
    "print(f”No of person node is {result_persons} & No of movie node is {result_movies}”)"
   ]
  },
  {
   "cell_type": "code",
   "execution_count": null,
   "metadata": {},
   "outputs": [],
   "source": [
    "df_result_count=pd.Series({‘Person’:result_persons,’Movie’:result_movies})\n",
    "df_result_count.plot(kind=’bar’,color=[‘blue’,’darkorange’])\n",
    "plt.xlabel(‘Node Label’)\n",
    "plt.ylabel(‘No Of Nodes’)"
   ]
  },
  {
   "cell_type": "markdown",
   "metadata": {},
   "source": [
    "\n",
    "----\n",
    "\n",
    "#### **Project Relations and Data Sources** \n",
    "20% - Did the database project involve multiple relations and/or data sources?\n",
    "\n",
    "As mentioned in the project overview, I mapped nodes from ten different datasets, which are from different scientific disciplines.\n",
    "\n",
    "\n",
    "In the query below, you can see the nodes in the graph that represent different datasets. We are not yet displaying edges between the nodes.\n"
   ]
  },
  {
   "cell_type": "code",
   "execution_count": null,
   "metadata": {},
   "outputs": [],
   "source": []
  },
  {
   "cell_type": "code",
   "execution_count": null,
   "metadata": {},
   "outputs": [],
   "source": []
  },
  {
   "cell_type": "code",
   "execution_count": null,
   "metadata": {},
   "outputs": [],
   "source": []
  },
  {
   "cell_type": "code",
   "execution_count": null,
   "metadata": {},
   "outputs": [],
   "source": [
    "from IPython.display import IFrame\n",
    "\n",
    "IFrame(src='./vis.html', width=900, height=700)"
   ]
  },
  {
   "cell_type": "markdown",
   "metadata": {},
   "source": [
    "\n",
    "----\n",
    "\n",
    "#### **Project Platform and Uses** \n",
    "\n",
    "20% - Does the project effectively use the chosen platform? For example, does it support input boxes if appropriate, or provide directions on how the data is populated an obtained?\n",
    "\n",
    "\n"
   ]
  },
  {
   "cell_type": "code",
   "execution_count": null,
   "metadata": {},
   "outputs": [],
   "source": []
  }
 ],
 "metadata": {
  "kernelspec": {
   "display_name": "Python 3",
   "language": "python",
   "name": "python3"
  },
  "language_info": {
   "codemirror_mode": {
    "name": "ipython",
    "version": 3
   },
   "file_extension": ".py",
   "mimetype": "text/x-python",
   "name": "python",
   "nbconvert_exporter": "python",
   "pygments_lexer": "ipython3",
   "version": "3.7.3"
  }
 },
 "nbformat": 4,
 "nbformat_minor": 4
}
